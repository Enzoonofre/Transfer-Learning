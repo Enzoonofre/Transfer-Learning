{
  "nbformat": 4,
  "nbformat_minor": 0,
  "metadata": {
    "colab": {
      "provenance": []
    },
    "kernelspec": {
      "name": "python3",
      "display_name": "Python 3"
    },
    "language_info": {
      "name": "python"
    }
  },
  "cells": [
    {
      "cell_type": "markdown",
      "source": [
        "###Primeiro passo precisamos baixar o Dataset que usaremos para resolver esse problema específico, no caso desse código, usaremos o 'cats and dogs' do Kaggle"
      ],
      "metadata": {
        "id": "jKOEbRhnkFlJ"
      }
    },
    {
      "cell_type": "code",
      "execution_count": 38,
      "metadata": {
        "id": "71nb735PETqw"
      },
      "outputs": [],
      "source": [
        "import os\n",
        "import requests\n",
        "import zipfile\n",
        "\n",
        "def download_dataset(url, save_dir):\n",
        "    \"\"\"\n",
        "    Função para baixar um dataset a partir de uma URL.\n",
        "\n",
        "    Args:\n",
        "        url (str): URL do dataset para download.\n",
        "        save_dir (str): Diretório onde o dataset será salvo.\n",
        "\n",
        "    Returns:\n",
        "        str: Caminho completo do arquivo baixado.\n",
        "    \"\"\"\n",
        "    # Cria o diretório se ele não existir\n",
        "    os.makedirs(save_dir, exist_ok=True)\n",
        "\n",
        "    # Obtém o nome do arquivo a partir da URL\n",
        "    file_name = os.path.basename(url)\n",
        "    save_path = os.path.join(save_dir, file_name)\n",
        "\n",
        "    # Faz o download do dataset\n",
        "    print(f\"Baixando dataset de {url}...\")\n",
        "    response = requests.get(url, stream=True)\n",
        "    if response.status_code == 200:\n",
        "        with open(save_path, \"wb\") as f:\n",
        "            for chunk in response.iter_content(chunk_size=8192):\n",
        "                f.write(chunk)\n",
        "        print(f\"Download concluído. Arquivo salvo em: {save_path}\")\n",
        "    else:\n",
        "        raise Exception(f\"Falha ao baixar o dataset. Código de status: {response.status_code}\")\n",
        "\n",
        "    with zipfile.ZipFile(save_path, 'r') as zip_ref:\n",
        "      zip_ref.extractall(save_dir)\n",
        "      print(f\"Arquivo extraído em: {save_dir}\")"
      ]
    },
    {
      "cell_type": "code",
      "source": [
        "url =\"https://storage.googleapis.com/mledu-datasets/cats_and_dogs_filtered.zip\"\n",
        "save_dir = \"dataset\"\n",
        "download_dataset(url, save_dir)\n"
      ],
      "metadata": {
        "colab": {
          "base_uri": "https://localhost:8080/"
        },
        "id": "EcduUQB6mj4A",
        "outputId": "d2f27892-5ec4-43c6-d99b-3dffa3529aa9"
      },
      "execution_count": 39,
      "outputs": [
        {
          "output_type": "stream",
          "name": "stdout",
          "text": [
            "Baixando dataset de https://storage.googleapis.com/mledu-datasets/cats_and_dogs_filtered.zip...\n",
            "Download concluído. Arquivo salvo em: dataset/cats_and_dogs_filtered.zip\n",
            "Arquivo extraído em: dataset\n"
          ]
        }
      ]
    },
    {
      "cell_type": "markdown",
      "source": [
        "###Função para deixar os arquivos separados apenas em cats e dogs, sem separar por treino e validação"
      ],
      "metadata": {
        "id": "JKZoagtN5ue9"
      }
    },
    {
      "cell_type": "code",
      "source": [
        "import os\n",
        "import shutil\n",
        "\n",
        "# Caminho da pasta principal\n",
        "base_dir = \"dataset/cats_and_dogs_filtered\"\n",
        "\n",
        "# Pastas originais\n",
        "train_dir = os.path.join(base_dir, \"train\")\n",
        "val_dir = os.path.join(base_dir, \"validation\")\n",
        "\n",
        "# Pastas de destino\n",
        "cats_dir = os.path.join(base_dir, \"cats\")\n",
        "dogs_dir = os.path.join(base_dir, \"dogs\")\n",
        "\n",
        "# Cria as pastas de destino se não existirem\n",
        "os.makedirs(cats_dir, exist_ok=True)\n",
        "os.makedirs(dogs_dir, exist_ok=True)\n",
        "\n",
        "# Função para mover arquivos de uma subpasta para a pasta destino\n",
        "def mover_imagens(origem, destino):\n",
        "    for arquivo in os.listdir(origem):\n",
        "        origem_arquivo = os.path.join(origem, arquivo)\n",
        "        destino_arquivo = os.path.join(destino, arquivo)\n",
        "        if os.path.isfile(origem_arquivo):  # Evita mover diretórios por engano\n",
        "            shutil.move(origem_arquivo, destino_arquivo)\n",
        "\n",
        "# Move todas as imagens de gatos\n",
        "mover_imagens(os.path.join(train_dir, \"cats\"), cats_dir)\n",
        "mover_imagens(os.path.join(val_dir, \"cats\"), cats_dir)\n",
        "\n",
        "# Move todas as imagens de cachorros\n",
        "mover_imagens(os.path.join(train_dir, \"dogs\"), dogs_dir)\n",
        "mover_imagens(os.path.join(val_dir, \"dogs\"), dogs_dir)\n",
        "\n",
        "print(\"Organização concluída!\")\n",
        "\n",
        "def delete_folder(folder_path):\n",
        "    \"\"\"\n",
        "    Exclui uma pasta e todo o seu conteúdo de forma recursiva e forçada.\n",
        "\n",
        "    Args:\n",
        "        folder_path (str): Caminho da pasta a ser excluída.\n",
        "    \"\"\"\n",
        "    if os.path.exists(folder_path):\n",
        "        print(f\"Excluindo a pasta e seu conteúdo: {folder_path}\")\n",
        "        shutil.rmtree(folder_path)\n",
        "        print(f\"Pasta excluída com sucesso: {folder_path}\")\n",
        "    else:\n",
        "        print(f\"A pasta não existe: {folder_path}\")\n",
        "delete_folder(train_dir)\n",
        "delete_folder(val_dir)\n"
      ],
      "metadata": {
        "colab": {
          "base_uri": "https://localhost:8080/"
        },
        "id": "H-7s_j-A5uDk",
        "outputId": "21ed45e3-1074-4fb9-f343-df5c5f26072f"
      },
      "execution_count": 40,
      "outputs": [
        {
          "output_type": "stream",
          "name": "stdout",
          "text": [
            "Organização concluída!\n",
            "Excluindo a pasta e seu conteúdo: dataset/cats_and_dogs_filtered/train\n",
            "Pasta excluída com sucesso: dataset/cats_and_dogs_filtered/train\n",
            "Excluindo a pasta e seu conteúdo: dataset/cats_and_dogs_filtered/validation\n",
            "Pasta excluída com sucesso: dataset/cats_and_dogs_filtered/validation\n"
          ]
        }
      ]
    },
    {
      "cell_type": "markdown",
      "source": [
        "Função abaixo exclui a pasta Dataset, utilizada para verificar se os download estão sendo baixados de forma correta"
      ],
      "metadata": {
        "id": "l5ICoqd4ool6"
      }
    },
    {
      "cell_type": "code",
      "source": [
        "'''import shutil\n",
        "import os\n",
        "\n",
        "def delete_folder(folder_path):\n",
        "    \"\"\"\n",
        "    Exclui uma pasta e todo o seu conteúdo de forma recursiva e forçada.\n",
        "\n",
        "    Args:\n",
        "        folder_path (str): Caminho da pasta a ser excluída.\n",
        "    \"\"\"\n",
        "    if os.path.exists(folder_path):\n",
        "        print(f\"Excluindo a pasta e seu conteúdo: {folder_path}\")\n",
        "        shutil.rmtree(folder_path)\n",
        "        print(f\"Pasta excluída com sucesso: {folder_path}\")\n",
        "    else:\n",
        "        print(f\"A pasta não existe: {folder_path}\")\n",
        "delete_folder(save_dir)'''\n"
      ],
      "metadata": {
        "colab": {
          "base_uri": "https://localhost:8080/"
        },
        "id": "iRtEWCWMobgi",
        "outputId": "fbcfeec0-5609-443e-8cf2-1ad4d9fcba01"
      },
      "execution_count": 37,
      "outputs": [
        {
          "output_type": "stream",
          "name": "stdout",
          "text": [
            "Excluindo a pasta e seu conteúdo: dataset\n",
            "Pasta excluída com sucesso: dataset\n"
          ]
        }
      ]
    },
    {
      "cell_type": "markdown",
      "source": [
        "###Segundo passo agora é carregar as imagens e aplicar o pré-processamento:\n",
        "-> Aplicar image size com o valor igual de quando for instanciar o modelo para não ter problemas com tamanho de imagens diferentes\n",
        "\n",
        "-> Splitar validação e treinamento"
      ],
      "metadata": {
        "id": "Hyt_cbJsqb4L"
      }
    },
    {
      "cell_type": "code",
      "source": [
        "import tensorflow as tf\n",
        "import keras\n",
        "from tensorflow.keras import layers, models, optimizers, utils\n",
        "dictory = \"dataset/cats_and_dogs_filtered\"\n",
        "train_dataset , val_dataset = keras.preprocessing.image_dataset_from_directory(\n",
        "  dictory,\n",
        "  validation_split=0.2,\n",
        "  subset=\"both\",\n",
        "  seed = 1,\n",
        "  image_size=(160, 160))\n"
      ],
      "metadata": {
        "colab": {
          "base_uri": "https://localhost:8080/"
        },
        "id": "5xPDO27BrVPI",
        "outputId": "f96262ca-9e9e-46e8-abb4-6f645506b29a"
      },
      "execution_count": 42,
      "outputs": [
        {
          "output_type": "stream",
          "name": "stdout",
          "text": [
            "Found 3000 files belonging to 2 classes.\n",
            "Using 2400 files for training.\n",
            "Using 600 files for validation.\n"
          ]
        }
      ]
    },
    {
      "cell_type": "code",
      "source": [
        "print(train_dataset)\n",
        "print(val_dataset)"
      ],
      "metadata": {
        "colab": {
          "base_uri": "https://localhost:8080/"
        },
        "id": "coOLN1onvyLa",
        "outputId": "fae667fd-e0ca-46f4-bbdd-34ff417de7db"
      },
      "execution_count": 43,
      "outputs": [
        {
          "output_type": "stream",
          "name": "stdout",
          "text": [
            "<_PrefetchDataset element_spec=(TensorSpec(shape=(None, 160, 160, 3), dtype=tf.float32, name=None), TensorSpec(shape=(None,), dtype=tf.int32, name=None))>\n",
            "<_PrefetchDataset element_spec=(TensorSpec(shape=(None, 160, 160, 3), dtype=tf.float32, name=None), TensorSpec(shape=(None,), dtype=tf.int32, name=None))>\n"
          ]
        }
      ]
    },
    {
      "cell_type": "markdown",
      "source": [
        "###Instanciando o modelo pré-treinado para carregar os pesos dele:\n",
        "\n",
        "- weights='imagenet' --> significa que o modelo \"MobileNetV2\" irá usar os pesos pré-treinado na base de dados \"ImageNet\"\n",
        "\n",
        "\n",
        "-  include_top=False --> significa que vai ser descartado a última camada de neurônios(porque você vai substituir essas camadas pelo seu próprio \"topo\" adaptado ao problema.)\n",
        "\n",
        "-  input_shape=(160, 160, 3) --> ajustando ao mesmo shape do Tensor de treino e validação\n"
      ],
      "metadata": {
        "id": "g3zkQp2NwNJT"
      }
    },
    {
      "cell_type": "code",
      "source": [
        "from tensorflow.keras.applications import MobileNetV2\n",
        "pretrained_model = tf.keras.applications.MobileNetV2(input_shape=(160, 160, 3),\n",
        "                                                     include_top=False,\n",
        "                                                     weights='imagenet')"
      ],
      "metadata": {
        "id": "tzMrHOfQwMl9"
      },
      "execution_count": 44,
      "outputs": []
    },
    {
      "cell_type": "markdown",
      "source": [
        "####Definindo \"pretrained_model.trainable = False\" para coongelar as camadas do modelo, ou seja, para que durante o processo de Transfer Learning os pesos não se alterem"
      ],
      "metadata": {
        "id": "qzoFZVrkxhtq"
      }
    },
    {
      "cell_type": "code",
      "source": [
        "pretrained_model.trainable = False"
      ],
      "metadata": {
        "id": "rpOeRnPYxggp"
      },
      "execution_count": 45,
      "outputs": []
    },
    {
      "cell_type": "markdown",
      "source": [
        "####Criação das camadas finais do modelo, um novo \"modelo no topo\" para adaptar o modelo genérico ao problema específico"
      ],
      "metadata": {
        "id": "p67auGLyx8bs"
      }
    },
    {
      "cell_type": "code",
      "source": [
        "model = models.Sequential([\n",
        "  pretrained_model,\n",
        "  layers.GlobalAveragePooling2D(),\n",
        "  layers.Dense(2, activation='softmax') # Para duas classes\n",
        "])"
      ],
      "metadata": {
        "id": "erTtyHAAx76o"
      },
      "execution_count": 46,
      "outputs": []
    },
    {
      "cell_type": "code",
      "source": [
        "model.compile(optimizer=optimizers.Adam(learning_rate=0.0001),\n",
        "       loss='sparse_categorical_crossentropy',\n",
        "       metrics=['accuracy'])"
      ],
      "metadata": {
        "id": "6Ac0edqy2Qyt"
      },
      "execution_count": 47,
      "outputs": []
    },
    {
      "cell_type": "markdown",
      "source": [
        "####Treinamento do modelo"
      ],
      "metadata": {
        "id": "-JDek6Do2mPS"
      }
    },
    {
      "cell_type": "code",
      "source": [
        "history = model.fit(train_dataset,\n",
        "          epochs=30, #colocar o valor 10 fica mais rapido para inicialmente treinar os dados\n",
        "          validation_data=val_dataset)"
      ],
      "metadata": {
        "colab": {
          "base_uri": "https://localhost:8080/"
        },
        "id": "1K4yrPqX2ljt",
        "outputId": "0f9854ae-4de8-4696-ab50-b2e80e777cf2"
      },
      "execution_count": 49,
      "outputs": [
        {
          "output_type": "stream",
          "name": "stdout",
          "text": [
            "Epoch 1/30\n",
            "\u001b[1m75/75\u001b[0m \u001b[32m━━━━━━━━━━━━━━━━━━━━\u001b[0m\u001b[37m\u001b[0m \u001b[1m68s\u001b[0m 908ms/step - accuracy: 0.7765 - loss: 0.4749 - val_accuracy: 0.7567 - val_loss: 0.5154\n",
            "Epoch 2/30\n",
            "\u001b[1m75/75\u001b[0m \u001b[32m━━━━━━━━━━━━━━━━━━━━\u001b[0m\u001b[37m\u001b[0m \u001b[1m59s\u001b[0m 794ms/step - accuracy: 0.7898 - loss: 0.4598 - val_accuracy: 0.7600 - val_loss: 0.5034\n",
            "Epoch 3/30\n",
            "\u001b[1m75/75\u001b[0m \u001b[32m━━━━━━━━━━━━━━━━━━━━\u001b[0m\u001b[37m\u001b[0m \u001b[1m92s\u001b[0m 930ms/step - accuracy: 0.7902 - loss: 0.4555 - val_accuracy: 0.7700 - val_loss: 0.5010\n",
            "Epoch 4/30\n",
            "\u001b[1m75/75\u001b[0m \u001b[32m━━━━━━━━━━━━━━━━━━━━\u001b[0m\u001b[37m\u001b[0m \u001b[1m73s\u001b[0m 813ms/step - accuracy: 0.8058 - loss: 0.4397 - val_accuracy: 0.7683 - val_loss: 0.5041\n",
            "Epoch 5/30\n",
            "\u001b[1m75/75\u001b[0m \u001b[32m━━━━━━━━━━━━━━━━━━━━\u001b[0m\u001b[37m\u001b[0m \u001b[1m89s\u001b[0m 900ms/step - accuracy: 0.8019 - loss: 0.4485 - val_accuracy: 0.7750 - val_loss: 0.4962\n",
            "Epoch 6/30\n",
            "\u001b[1m75/75\u001b[0m \u001b[32m━━━━━━━━━━━━━━━━━━━━\u001b[0m\u001b[37m\u001b[0m \u001b[1m61s\u001b[0m 817ms/step - accuracy: 0.7996 - loss: 0.4401 - val_accuracy: 0.7733 - val_loss: 0.4933\n",
            "Epoch 7/30\n",
            "\u001b[1m75/75\u001b[0m \u001b[32m━━━━━━━━━━━━━━━━━━━━\u001b[0m\u001b[37m\u001b[0m \u001b[1m81s\u001b[0m 805ms/step - accuracy: 0.8017 - loss: 0.4330 - val_accuracy: 0.7767 - val_loss: 0.4901\n",
            "Epoch 8/30\n",
            "\u001b[1m75/75\u001b[0m \u001b[32m━━━━━━━━━━━━━━━━━━━━\u001b[0m\u001b[37m\u001b[0m \u001b[1m83s\u001b[0m 816ms/step - accuracy: 0.8058 - loss: 0.4386 - val_accuracy: 0.7800 - val_loss: 0.4793\n",
            "Epoch 9/30\n",
            "\u001b[1m75/75\u001b[0m \u001b[32m━━━━━━━━━━━━━━━━━━━━\u001b[0m\u001b[37m\u001b[0m \u001b[1m60s\u001b[0m 797ms/step - accuracy: 0.8058 - loss: 0.4264 - val_accuracy: 0.7800 - val_loss: 0.4776\n",
            "Epoch 10/30\n",
            "\u001b[1m75/75\u001b[0m \u001b[32m━━━━━━━━━━━━━━━━━━━━\u001b[0m\u001b[37m\u001b[0m \u001b[1m92s\u001b[0m 934ms/step - accuracy: 0.8044 - loss: 0.4223 - val_accuracy: 0.7817 - val_loss: 0.4762\n",
            "Epoch 11/30\n",
            "\u001b[1m75/75\u001b[0m \u001b[32m━━━━━━━━━━━━━━━━━━━━\u001b[0m\u001b[37m\u001b[0m \u001b[1m73s\u001b[0m 819ms/step - accuracy: 0.8094 - loss: 0.4197 - val_accuracy: 0.7817 - val_loss: 0.4735\n",
            "Epoch 12/30\n",
            "\u001b[1m75/75\u001b[0m \u001b[32m━━━━━━━━━━━━━━━━━━━━\u001b[0m\u001b[37m\u001b[0m \u001b[1m59s\u001b[0m 793ms/step - accuracy: 0.8158 - loss: 0.4110 - val_accuracy: 0.7800 - val_loss: 0.4737\n",
            "Epoch 13/30\n",
            "\u001b[1m75/75\u001b[0m \u001b[32m━━━━━━━━━━━━━━━━━━━━\u001b[0m\u001b[37m\u001b[0m \u001b[1m92s\u001b[0m 927ms/step - accuracy: 0.8083 - loss: 0.4142 - val_accuracy: 0.7833 - val_loss: 0.4674\n",
            "Epoch 14/30\n",
            "\u001b[1m75/75\u001b[0m \u001b[32m━━━━━━━━━━━━━━━━━━━━\u001b[0m\u001b[37m\u001b[0m \u001b[1m75s\u001b[0m 834ms/step - accuracy: 0.8183 - loss: 0.4055 - val_accuracy: 0.7817 - val_loss: 0.4700\n",
            "Epoch 15/30\n",
            "\u001b[1m75/75\u001b[0m \u001b[32m━━━━━━━━━━━━━━━━━━━━\u001b[0m\u001b[37m\u001b[0m \u001b[1m88s\u001b[0m 917ms/step - accuracy: 0.8228 - loss: 0.3965 - val_accuracy: 0.7750 - val_loss: 0.4724\n",
            "Epoch 16/30\n",
            "\u001b[1m75/75\u001b[0m \u001b[32m━━━━━━━━━━━━━━━━━━━━\u001b[0m\u001b[37m\u001b[0m \u001b[1m73s\u001b[0m 799ms/step - accuracy: 0.8179 - loss: 0.3937 - val_accuracy: 0.7800 - val_loss: 0.4669\n",
            "Epoch 17/30\n",
            "\u001b[1m75/75\u001b[0m \u001b[32m━━━━━━━━━━━━━━━━━━━━\u001b[0m\u001b[37m\u001b[0m \u001b[1m83s\u001b[0m 819ms/step - accuracy: 0.8184 - loss: 0.3942 - val_accuracy: 0.7850 - val_loss: 0.4610\n",
            "Epoch 18/30\n",
            "\u001b[1m75/75\u001b[0m \u001b[32m━━━━━━━━━━━━━━━━━━━━\u001b[0m\u001b[37m\u001b[0m \u001b[1m60s\u001b[0m 800ms/step - accuracy: 0.8268 - loss: 0.3968 - val_accuracy: 0.7717 - val_loss: 0.4641\n",
            "Epoch 19/30\n",
            "\u001b[1m75/75\u001b[0m \u001b[32m━━━━━━━━━━━━━━━━━━━━\u001b[0m\u001b[37m\u001b[0m \u001b[1m82s\u001b[0m 799ms/step - accuracy: 0.8231 - loss: 0.3976 - val_accuracy: 0.7750 - val_loss: 0.4656\n",
            "Epoch 20/30\n",
            "\u001b[1m75/75\u001b[0m \u001b[32m━━━━━━━━━━━━━━━━━━━━\u001b[0m\u001b[37m\u001b[0m \u001b[1m91s\u001b[0m 923ms/step - accuracy: 0.8258 - loss: 0.3925 - val_accuracy: 0.7817 - val_loss: 0.4536\n",
            "Epoch 21/30\n",
            "\u001b[1m75/75\u001b[0m \u001b[32m━━━━━━━━━━━━━━━━━━━━\u001b[0m\u001b[37m\u001b[0m \u001b[1m61s\u001b[0m 805ms/step - accuracy: 0.8308 - loss: 0.3880 - val_accuracy: 0.7750 - val_loss: 0.4580\n",
            "Epoch 22/30\n",
            "\u001b[1m75/75\u001b[0m \u001b[32m━━━━━━━━━━━━━━━━━━━━\u001b[0m\u001b[37m\u001b[0m \u001b[1m83s\u001b[0m 821ms/step - accuracy: 0.8126 - loss: 0.3924 - val_accuracy: 0.7783 - val_loss: 0.4554\n",
            "Epoch 23/30\n",
            "\u001b[1m75/75\u001b[0m \u001b[32m━━━━━━━━━━━━━━━━━━━━\u001b[0m\u001b[37m\u001b[0m \u001b[1m91s\u001b[0m 938ms/step - accuracy: 0.8227 - loss: 0.3875 - val_accuracy: 0.7800 - val_loss: 0.4519\n",
            "Epoch 24/30\n",
            "\u001b[1m75/75\u001b[0m \u001b[32m━━━━━━━━━━━━━━━━━━━━\u001b[0m\u001b[37m\u001b[0m \u001b[1m73s\u001b[0m 823ms/step - accuracy: 0.8270 - loss: 0.3813 - val_accuracy: 0.7883 - val_loss: 0.4476\n",
            "Epoch 25/30\n",
            "\u001b[1m75/75\u001b[0m \u001b[32m━━━━━━━━━━━━━━━━━━━━\u001b[0m\u001b[37m\u001b[0m \u001b[1m81s\u001b[0m 807ms/step - accuracy: 0.8259 - loss: 0.3784 - val_accuracy: 0.7717 - val_loss: 0.4510\n",
            "Epoch 26/30\n",
            "\u001b[1m75/75\u001b[0m \u001b[32m━━━━━━━━━━━━━━━━━━━━\u001b[0m\u001b[37m\u001b[0m \u001b[1m90s\u001b[0m 923ms/step - accuracy: 0.8310 - loss: 0.3802 - val_accuracy: 0.7733 - val_loss: 0.4521\n",
            "Epoch 27/30\n",
            "\u001b[1m75/75\u001b[0m \u001b[32m━━━━━━━━━━━━━━━━━━━━\u001b[0m\u001b[37m\u001b[0m \u001b[1m83s\u001b[0m 939ms/step - accuracy: 0.8374 - loss: 0.3738 - val_accuracy: 0.7733 - val_loss: 0.4563\n",
            "Epoch 28/30\n",
            "\u001b[1m75/75\u001b[0m \u001b[32m━━━━━━━━━━━━━━━━━━━━\u001b[0m\u001b[37m\u001b[0m \u001b[1m73s\u001b[0m 816ms/step - accuracy: 0.8279 - loss: 0.3745 - val_accuracy: 0.7800 - val_loss: 0.4459\n",
            "Epoch 29/30\n",
            "\u001b[1m75/75\u001b[0m \u001b[32m━━━━━━━━━━━━━━━━━━━━\u001b[0m\u001b[37m\u001b[0m \u001b[1m81s\u001b[0m 805ms/step - accuracy: 0.8400 - loss: 0.3671 - val_accuracy: 0.7800 - val_loss: 0.4512\n",
            "Epoch 30/30\n",
            "\u001b[1m75/75\u001b[0m \u001b[32m━━━━━━━━━━━━━━━━━━━━\u001b[0m\u001b[37m\u001b[0m \u001b[1m81s\u001b[0m 803ms/step - accuracy: 0.8331 - loss: 0.3713 - val_accuracy: 0.7733 - val_loss: 0.4478\n"
          ]
        }
      ]
    },
    {
      "cell_type": "code",
      "source": [
        "loss, accuracy = model.evaluate(val_dataset)\n",
        "print(f\"Accuracy: {accuracy * 100:.2f}%\")"
      ],
      "metadata": {
        "colab": {
          "base_uri": "https://localhost:8080/"
        },
        "id": "ieiFkVyiINW5",
        "outputId": "355e13f7-d3cd-44b6-bed3-16527f20bfaf"
      },
      "execution_count": 50,
      "outputs": [
        {
          "output_type": "stream",
          "name": "stdout",
          "text": [
            "\u001b[1m19/19\u001b[0m \u001b[32m━━━━━━━━━━━━━━━━━━━━\u001b[0m\u001b[37m\u001b[0m \u001b[1m13s\u001b[0m 636ms/step - accuracy: 0.7757 - loss: 0.4357\n",
            "Accuracy: 77.33%\n"
          ]
        }
      ]
    },
    {
      "cell_type": "code",
      "source": [
        "import matplotlib.pyplot as plt\n",
        "plt.plot(history.history['accuracy'], label='Acurácia de Treinamento')\n",
        "plt.plot(history.history['val_accuracy'], label='Acurácia de Validação')\n",
        "plt.title('Acurácia do Modelo')\n",
        "plt.xlabel('Épocas')\n",
        "plt.ylabel('Acurácia')\n",
        "plt.legend()\n",
        "plt.show()"
      ],
      "metadata": {
        "colab": {
          "base_uri": "https://localhost:8080/",
          "height": 474
        },
        "id": "P0hFhpAWIY_O",
        "outputId": "8809b221-1737-4d75-b653-cde3c4a5ea7b"
      },
      "execution_count": 51,
      "outputs": [
        {
          "output_type": "display_data",
          "data": {
            "text/plain": [
              "<Figure size 640x480 with 1 Axes>"
            ],
            "image/png": "[encoded data removed]"
          },
          "metadata": {}
        }
      ]
    }
  ]
}